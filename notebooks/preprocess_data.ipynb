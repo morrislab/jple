{
 "cells": [
  {
   "metadata": {},
   "cell_type": "markdown",
   "source": "# Preprocess data for JPLE",
   "id": "665440ca849f0339"
  },
  {
   "metadata": {},
   "cell_type": "markdown",
   "source": "## Import packages",
   "id": "24bb135ae9f97fc3"
  },
  {
   "metadata": {
    "ExecuteTime": {
     "end_time": "2025-09-24T06:49:34.698526Z",
     "start_time": "2025-09-24T06:49:34.482660Z"
    }
   },
   "cell_type": "code",
   "source": [
    "import os\n",
    "import subprocess\n",
    "from typing import List\n",
    "import urllib.request\n",
    "\n",
    "import pandas as pd"
   ],
   "id": "2a82dde816854987",
   "outputs": [],
   "execution_count": 1
  },
  {
   "metadata": {},
   "cell_type": "markdown",
   "source": "## Build the profile HMM file",
   "id": "5763e7d6d95f843e"
  },
  {
   "metadata": {
    "ExecuteTime": {
     "end_time": "2025-09-24T06:49:36.042532Z",
     "start_time": "2025-09-24T06:49:36.035042Z"
    }
   },
   "cell_type": "code",
   "source": [
    "def extract_hmm(hmm_file: str, hmm_acc_list: List[str]) -> List[str]:\n",
    "    \"\"\"\n",
    "    Extract HMMs from a Pfam-A file.\n",
    "\n",
    "    Parameters\n",
    "    ----------\n",
    "    hmm_file : str\n",
    "        Input Pfam-A HMM file.\n",
    "    hmm_acc_list : List[str]\n",
    "        List of HMM accessions.\n",
    "\n",
    "    Returns\n",
    "    -------\n",
    "    hmm_line_list : List[str]\n",
    "        List of selected HMM lines.\n",
    "\n",
    "    \"\"\"\n",
    "    with open(hmm_file) as infile:\n",
    "        write_flag = False\n",
    "        selected_hmm_line_list = []\n",
    "        current_hmm_line_list = []\n",
    "        added_acc_list = []\n",
    "\n",
    "        # Iterate over the lines of Pfam-A\n",
    "        for line in infile:\n",
    "\n",
    "            # Start of HMM\n",
    "            if line.startswith('HMMER3/f'):\n",
    "                current_hmm_line_list = [line]\n",
    "                write_flag = None\n",
    "                continue\n",
    "            current_hmm_line_list.append(line)\n",
    "\n",
    "            # Look for ACC line\n",
    "            if line.startswith('ACC'):\n",
    "                current_acc = line.split()[1].split('.')[0]\n",
    "                if current_acc in hmm_acc_list:\n",
    "                    added_acc_list.append(current_acc)\n",
    "                    write_flag = True\n",
    "\n",
    "            # End of HMM\n",
    "            if line.strip() == '//':\n",
    "                if write_flag:\n",
    "                    selected_hmm_line_list += current_hmm_line_list\n",
    "                    if len(added_acc_list) == len(hmm_acc_list):\n",
    "                        return selected_hmm_line_list\n",
    "                current_hmm_line_list = []\n",
    "                write_flag = False\n",
    "    return selected_hmm_line_list\n",
    "\n",
    "\n",
    "def build_hmm(hmm_acc_path: str, pfam_url: str, rrm_hmm_path: str, output_hmm_path: str) -> None:\n",
    "    \"\"\"\n",
    "    Build the profile HMM file, which consists of those selected by accession and the custom RRM_1 HMM.\n",
    "\n",
    "    Parameters\n",
    "    ----------\n",
    "    hmm_acc_path : str\n",
    "        Path to the HMM accessions.\n",
    "    pfam_url : str\n",
    "        URL of the Pfam-A file.\n",
    "    rrm_hmm_path : str\n",
    "        Path to the RRMs_3D_hmm_extended HMM file.\n",
    "    output_hmm_path : str\n",
    "        Path to the output HMM file.\n",
    "\n",
    "    \"\"\"\n",
    "\n",
    "    # Read the list of HMM accessions\n",
    "    with open(hmm_acc_path) as f:\n",
    "        hmm_acc_list = f.read().splitlines()\n",
    "\n",
    "    # Download the profile HMMs\n",
    "    hmm_gz_file = pfam_url.split('/')[-1]\n",
    "    if not os.path.exists(hmm_gz_file):\n",
    "        print(f'Downloading {pfam_url}...')\n",
    "        urllib.request.urlretrieve(pfam_url, hmm_gz_file)\n",
    "    else:\n",
    "        print(f'{hmm_gz_file} already exists.')\n",
    "\n",
    "    # Unpack the profile HMMs\n",
    "    hmm_file = hmm_gz_file.rstrip('.gz')\n",
    "    if not os.path.exists(hmm_file):\n",
    "        print(f'Unpacking {hmm_gz_file}...')\n",
    "        subprocess.run(['gunzip', '-k', hmm_gz_file], check=True)\n",
    "    else:\n",
    "        print(f'{hmm_file} already exists.')\n",
    "\n",
    "    # Extract HMMs\n",
    "    selected_hmm_line_list = extract_hmm(hmm_file, hmm_acc_list)\n",
    "    with open(rrm_hmm_path) as f:\n",
    "        rrm_hmm_line_list = f.readlines()\n",
    "    hmm_line_list = selected_hmm_line_list + rrm_hmm_line_list\n",
    "\n",
    "    # Write HMMs\n",
    "    with open(output_hmm_path, 'w') as f:\n",
    "        f.writelines(hmm_line_list)"
   ],
   "id": "5025659138a82775",
   "outputs": [],
   "execution_count": 2
  },
  {
   "metadata": {
    "ExecuteTime": {
     "end_time": "2025-09-24T06:50:59.156550Z",
     "start_time": "2025-09-24T06:49:36.374039Z"
    }
   },
   "cell_type": "code",
   "source": [
    "build_hmm(hmm_acc_path='../data/raw/hmm_acc.txt',\n",
    "          pfam_url='https://ftp.ebi.ac.uk/pub/databases/Pfam/releases/Pfam38.0/Pfam-A.hmm.gz',\n",
    "          rrm_hmm_path='../data/raw/RRMs_3D_hmm_extended.hmm',\n",
    "          output_hmm_path = '../data/processed/domain_rbp.hmm')"
   ],
   "id": "ec3771d81df7cb08",
   "outputs": [
    {
     "name": "stdout",
     "output_type": "stream",
     "text": [
      "Pfam-A.hmm.gz already exists.\n",
      "Pfam-A.hmm already exists.\n"
     ]
    }
   ],
   "execution_count": 3
  },
  {
   "metadata": {},
   "cell_type": "markdown",
   "source": "## Select the RBPs",
   "id": "4e72cd2704ad288e"
  },
  {
   "metadata": {},
   "cell_type": "code",
   "source": [
    "def select_rbp(zscore_eupri_path: str, metadata_eupri_path: str, fasta_train_path: str, zscore_train_path: str) -> None:\n",
    "    \"\"\"\n",
    "    Select the RBPs. One RBP is selected to represent each domain composition.\n",
    "\n",
    "    Parameters\n",
    "    ----------\n",
    "    zscore_eupri_path : str\n",
    "        Path to the EuPRI k-mer Z-scores.\n",
    "    metadata_eupri_path : str\n",
    "        Path to the EuPRI metadata.\n",
    "    fasta_train_path : str\n",
    "        Path to the output FASTA file containing data of the selected RBPs.\n",
    "    zscore_train_path : str\n",
    "        Path to the output k-mer Z-scores containing data of the selected RBPs.\n",
    "\n",
    "    \"\"\"\n",
    "\n",
    "    # Read the Z-scores\n",
    "    zscore_df = pd.read_csv(zscore_eupri_path, sep='\\t', index_col=0)\n",
    "\n",
    "    # Compute the mean top-10 Z-score for each protein\n",
    "    zscore_mean_dict = zscore_df.apply(lambda col: col.nlargest(10).mean()).to_dict()\n",
    "\n",
    "    # Read the metadata\n",
    "    metadata_df = pd.read_csv(metadata_eupri_path, sep='\\t', index_col=0)\n",
    "\n",
    "    # Filter for RBPs containing only RRMs or KH domains\n",
    "    metadata_df = metadata_df[metadata_df['construct_domains'].apply(lambda x: set(x.split(';')).issubset(['RRMs_3D_hmm_extended', 'KH_1']))]\n",
    "    metadata_df['gene_id'] = metadata_df['gene_id'].replace('', pd.NA)\n",
    "    metadata_df['gene_id'] = metadata_df['gene_id'].fillna(metadata_df['gene_name'])\n",
    "\n",
    "    # Select the top sequence for each domain combination\n",
    "    # It is manually verified that constructs that contain the same (protein_id, construct_domains) refer to the same domains\n",
    "    group_list_list = metadata_df.groupby(['gene_id', 'construct_domains'])['rnacompete_id'].apply(list).to_list()\n",
    "    top_list = [max(group_list, key=lambda x: zscore_mean_dict[x]) for group_list in group_list_list]\n",
    "    tmp_df = metadata_df.set_index('rnacompete_id', drop=False).loc[top_list]\n",
    "\n",
    "    # Select the top sequence for each unique construct sequence\n",
    "    group_list_list = tmp_df.groupby('construct_aa_seq')['rnacompete_id'].apply(list).to_list()\n",
    "    top_list = sorted([max(group_list, key=lambda x: zscore_mean_dict[x]) for group_list in group_list_list])\n",
    "\n",
    "    # Write the selected protein sequences to a FASTA file\n",
    "    seq_list = metadata_df.set_index('rnacompete_id').loc[top_list]['construct_aa_seq'].to_list()\n",
    "    with open(fasta_train_path, 'w') as f:\n",
    "        for rnacompete_id, seq in zip(top_list, seq_list):\n",
    "            f.write(f'>{rnacompete_id}\\n')\n",
    "            f.write(f'{seq}\\n')\n",
    "\n",
    "    # Subset the Z-scores of the selected proteins\n",
    "    zscore_df.loc[:, top_list].to_csv(zscore_train_path, sep='\\t')"
   ],
   "id": "abf6682ae2ab98f9",
   "outputs": [],
   "execution_count": null
  },
  {
   "metadata": {},
   "cell_type": "code",
   "source": [
    "select_rbp(zscore_eupri_path = '../data/raw/zscore_eupri.tsv',\n",
    "           metadata_eupri_path = '../data/raw/rnacompete_metadata_eupri.tsv',\n",
    "           fasta_train_path = '../data/processed/seq_train.fasta',\n",
    "           zscore_train_path = '../data/processed/zscore_train.tsv')"
   ],
   "id": "2427c9d6fd52bbb2",
   "outputs": [],
   "execution_count": null
  }
 ],
 "metadata": {
  "kernelspec": {
   "display_name": "Python 3",
   "language": "python",
   "name": "python3"
  },
  "language_info": {
   "codemirror_mode": {
    "name": "ipython",
    "version": 2
   },
   "file_extension": ".py",
   "mimetype": "text/x-python",
   "name": "python",
   "nbconvert_exporter": "python",
   "pygments_lexer": "ipython2",
   "version": "2.7.6"
  }
 },
 "nbformat": 4,
 "nbformat_minor": 5
}
